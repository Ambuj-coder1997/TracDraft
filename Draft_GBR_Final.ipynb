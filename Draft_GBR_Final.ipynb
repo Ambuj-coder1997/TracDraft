{
 "cells": [
  {
   "cell_type": "code",
   "execution_count": 1,
   "metadata": {
    "id": "uay5ovSqJXG_"
   },
   "outputs": [],
   "source": [
    "import numpy as np\n",
    "import pandas as pd\n",
    "import matplotlib.pyplot as plt\n",
    "import seaborn as sns\n",
    "from sklearn.model_selection import train_test_split\n",
    "from sklearn.preprocessing import StandardScaler\n",
    "from sklearn.linear_model import LinearRegression\n",
    "from sklearn.neighbors import KNeighborsRegressor\n",
    "from sklearn.svm import SVR\n",
    "from sklearn.tree import DecisionTreeRegressor\n",
    "from sklearn.ensemble import RandomForestRegressor, GradientBoostingRegressor, ExtraTreesRegressor\n",
    "from xgboost import XGBRegressor\n",
    "from sklearn.metrics import mean_absolute_error, mean_squared_error, r2_score, mean_absolute_percentage_error\n",
    "from sklearn.model_selection import GridSearchCV, RandomizedSearchCV\n",
    "from sklearn import datasets, ensemble\n",
    "from scipy.stats import loguniform"
   ]
  },
  {
   "cell_type": "code",
   "execution_count": 2,
   "metadata": {
    "id": "lq1L-XGLKDnm"
   },
   "outputs": [],
   "source": [
    "df = pd.read_excel('/content/122 draft data.xlsx')"
   ]
  },
  {
   "cell_type": "code",
   "execution_count": 3,
   "metadata": {
    "colab": {
     "base_uri": "https://localhost:8080/",
     "height": 206
    },
    "id": "Bp3vh14tlBZf",
    "outputId": "ebbe2e9a-af75-4e73-ec7a-4183d808067a"
   },
   "outputs": [
    {
     "data": {
      "text/html": [
       "\n",
       "\n",
       "  <div id=\"df-7cf1a419-9822-44e5-8b60-382dc5b602ed\">\n",
       "    <div class=\"colab-df-container\">\n",
       "      <div>\n",
       "<style scoped>\n",
       "    .dataframe tbody tr th:only-of-type {\n",
       "        vertical-align: middle;\n",
       "    }\n",
       "\n",
       "    .dataframe tbody tr th {\n",
       "        vertical-align: top;\n",
       "    }\n",
       "\n",
       "    .dataframe thead th {\n",
       "        text-align: right;\n",
       "    }\n",
       "</style>\n",
       "<table border=\"1\" class=\"dataframe\">\n",
       "  <thead>\n",
       "    <tr style=\"text-align: right;\">\n",
       "      <th></th>\n",
       "      <th>PTO Power</th>\n",
       "      <th>Tire Sectional width (m)</th>\n",
       "      <th>Tire overall diameter (m)</th>\n",
       "      <th>Drawbar height (m)</th>\n",
       "      <th>Wheel base (m)</th>\n",
       "      <th>Total mass (kN)</th>\n",
       "      <th>Velocity (km/h)</th>\n",
       "      <th>Maximum drawbar pull at 15% wheel slip (kN)</th>\n",
       "    </tr>\n",
       "  </thead>\n",
       "  <tbody>\n",
       "    <tr>\n",
       "      <th>0</th>\n",
       "      <td>31.3</td>\n",
       "      <td>0.345</td>\n",
       "      <td>1.310</td>\n",
       "      <td>0.65</td>\n",
       "      <td>1.94</td>\n",
       "      <td>18.737</td>\n",
       "      <td>3.07</td>\n",
       "      <td>15.37</td>\n",
       "    </tr>\n",
       "    <tr>\n",
       "      <th>1</th>\n",
       "      <td>22.2</td>\n",
       "      <td>0.315</td>\n",
       "      <td>1.260</td>\n",
       "      <td>0.65</td>\n",
       "      <td>1.95</td>\n",
       "      <td>18.737</td>\n",
       "      <td>3.08</td>\n",
       "      <td>14.46</td>\n",
       "    </tr>\n",
       "    <tr>\n",
       "      <th>2</th>\n",
       "      <td>34.0</td>\n",
       "      <td>0.345</td>\n",
       "      <td>1.310</td>\n",
       "      <td>0.65</td>\n",
       "      <td>1.98</td>\n",
       "      <td>20.748</td>\n",
       "      <td>3.03</td>\n",
       "      <td>18.01</td>\n",
       "    </tr>\n",
       "    <tr>\n",
       "      <th>3</th>\n",
       "      <td>34.1</td>\n",
       "      <td>0.241</td>\n",
       "      <td>1.050</td>\n",
       "      <td>0.50</td>\n",
       "      <td>1.48</td>\n",
       "      <td>11.134</td>\n",
       "      <td>2.65</td>\n",
       "      <td>8.37</td>\n",
       "    </tr>\n",
       "    <tr>\n",
       "      <th>4</th>\n",
       "      <td>12.9</td>\n",
       "      <td>0.429</td>\n",
       "      <td>1.435</td>\n",
       "      <td>0.60</td>\n",
       "      <td>1.88</td>\n",
       "      <td>18.344</td>\n",
       "      <td>3.05</td>\n",
       "      <td>13.63</td>\n",
       "    </tr>\n",
       "  </tbody>\n",
       "</table>\n",
       "</div>\n",
       "      <button class=\"colab-df-convert\" onclick=\"convertToInteractive('df-7cf1a419-9822-44e5-8b60-382dc5b602ed')\"\n",
       "              title=\"Convert this dataframe to an interactive table.\"\n",
       "              style=\"display:none;\">\n",
       "\n",
       "  <svg xmlns=\"http://www.w3.org/2000/svg\" height=\"24px\"viewBox=\"0 0 24 24\"\n",
       "       width=\"24px\">\n",
       "    <path d=\"M0 0h24v24H0V0z\" fill=\"none\"/>\n",
       "    <path d=\"M18.56 5.44l.94 2.06.94-2.06 2.06-.94-2.06-.94-.94-2.06-.94 2.06-2.06.94zm-11 1L8.5 8.5l.94-2.06 2.06-.94-2.06-.94L8.5 2.5l-.94 2.06-2.06.94zm10 10l.94 2.06.94-2.06 2.06-.94-2.06-.94-.94-2.06-.94 2.06-2.06.94z\"/><path d=\"M17.41 7.96l-1.37-1.37c-.4-.4-.92-.59-1.43-.59-.52 0-1.04.2-1.43.59L10.3 9.45l-7.72 7.72c-.78.78-.78 2.05 0 2.83L4 21.41c.39.39.9.59 1.41.59.51 0 1.02-.2 1.41-.59l7.78-7.78 2.81-2.81c.8-.78.8-2.07 0-2.86zM5.41 20L4 18.59l7.72-7.72 1.47 1.35L5.41 20z\"/>\n",
       "  </svg>\n",
       "      </button>\n",
       "\n",
       "\n",
       "\n",
       "    <div id=\"df-4e3f6b6c-59a9-4a71-ace6-9a45195374cd\">\n",
       "      <button class=\"colab-df-quickchart\" onclick=\"quickchart('df-4e3f6b6c-59a9-4a71-ace6-9a45195374cd')\"\n",
       "              title=\"Suggest charts.\"\n",
       "              style=\"display:none;\">\n",
       "\n",
       "<svg xmlns=\"http://www.w3.org/2000/svg\" height=\"24px\"viewBox=\"0 0 24 24\"\n",
       "     width=\"24px\">\n",
       "    <g>\n",
       "        <path d=\"M19 3H5c-1.1 0-2 .9-2 2v14c0 1.1.9 2 2 2h14c1.1 0 2-.9 2-2V5c0-1.1-.9-2-2-2zM9 17H7v-7h2v7zm4 0h-2V7h2v10zm4 0h-2v-4h2v4z\"/>\n",
       "    </g>\n",
       "</svg>\n",
       "      </button>\n",
       "    </div>\n",
       "\n",
       "<style>\n",
       "  .colab-df-quickchart {\n",
       "    background-color: #E8F0FE;\n",
       "    border: none;\n",
       "    border-radius: 50%;\n",
       "    cursor: pointer;\n",
       "    display: none;\n",
       "    fill: #1967D2;\n",
       "    height: 32px;\n",
       "    padding: 0 0 0 0;\n",
       "    width: 32px;\n",
       "  }\n",
       "\n",
       "  .colab-df-quickchart:hover {\n",
       "    background-color: #E2EBFA;\n",
       "    box-shadow: 0px 1px 2px rgba(60, 64, 67, 0.3), 0px 1px 3px 1px rgba(60, 64, 67, 0.15);\n",
       "    fill: #174EA6;\n",
       "  }\n",
       "\n",
       "  [theme=dark] .colab-df-quickchart {\n",
       "    background-color: #3B4455;\n",
       "    fill: #D2E3FC;\n",
       "  }\n",
       "\n",
       "  [theme=dark] .colab-df-quickchart:hover {\n",
       "    background-color: #434B5C;\n",
       "    box-shadow: 0px 1px 3px 1px rgba(0, 0, 0, 0.15);\n",
       "    filter: drop-shadow(0px 1px 2px rgba(0, 0, 0, 0.3));\n",
       "    fill: #FFFFFF;\n",
       "  }\n",
       "</style>\n",
       "\n",
       "    <script>\n",
       "      async function quickchart(key) {\n",
       "        const containerElement = document.querySelector('#' + key);\n",
       "        const charts = await google.colab.kernel.invokeFunction(\n",
       "            'suggestCharts', [key], {});\n",
       "      }\n",
       "    </script>\n",
       "\n",
       "      <script>\n",
       "\n",
       "function displayQuickchartButton(domScope) {\n",
       "  let quickchartButtonEl =\n",
       "    domScope.querySelector('#df-4e3f6b6c-59a9-4a71-ace6-9a45195374cd button.colab-df-quickchart');\n",
       "  quickchartButtonEl.style.display =\n",
       "    google.colab.kernel.accessAllowed ? 'block' : 'none';\n",
       "}\n",
       "\n",
       "        displayQuickchartButton(document);\n",
       "      </script>\n",
       "      <style>\n",
       "    .colab-df-container {\n",
       "      display:flex;\n",
       "      flex-wrap:wrap;\n",
       "      gap: 12px;\n",
       "    }\n",
       "\n",
       "    .colab-df-convert {\n",
       "      background-color: #E8F0FE;\n",
       "      border: none;\n",
       "      border-radius: 50%;\n",
       "      cursor: pointer;\n",
       "      display: none;\n",
       "      fill: #1967D2;\n",
       "      height: 32px;\n",
       "      padding: 0 0 0 0;\n",
       "      width: 32px;\n",
       "    }\n",
       "\n",
       "    .colab-df-convert:hover {\n",
       "      background-color: #E2EBFA;\n",
       "      box-shadow: 0px 1px 2px rgba(60, 64, 67, 0.3), 0px 1px 3px 1px rgba(60, 64, 67, 0.15);\n",
       "      fill: #174EA6;\n",
       "    }\n",
       "\n",
       "    [theme=dark] .colab-df-convert {\n",
       "      background-color: #3B4455;\n",
       "      fill: #D2E3FC;\n",
       "    }\n",
       "\n",
       "    [theme=dark] .colab-df-convert:hover {\n",
       "      background-color: #434B5C;\n",
       "      box-shadow: 0px 1px 3px 1px rgba(0, 0, 0, 0.15);\n",
       "      filter: drop-shadow(0px 1px 2px rgba(0, 0, 0, 0.3));\n",
       "      fill: #FFFFFF;\n",
       "    }\n",
       "  </style>\n",
       "\n",
       "      <script>\n",
       "        const buttonEl =\n",
       "          document.querySelector('#df-7cf1a419-9822-44e5-8b60-382dc5b602ed button.colab-df-convert');\n",
       "        buttonEl.style.display =\n",
       "          google.colab.kernel.accessAllowed ? 'block' : 'none';\n",
       "\n",
       "        async function convertToInteractive(key) {\n",
       "          const element = document.querySelector('#df-7cf1a419-9822-44e5-8b60-382dc5b602ed');\n",
       "          const dataTable =\n",
       "            await google.colab.kernel.invokeFunction('convertToInteractive',\n",
       "                                                     [key], {});\n",
       "          if (!dataTable) return;\n",
       "\n",
       "          const docLinkHtml = 'Like what you see? Visit the ' +\n",
       "            '<a target=\"_blank\" href=https://colab.research.google.com/notebooks/data_table.ipynb>data table notebook</a>'\n",
       "            + ' to learn more about interactive tables.';\n",
       "          element.innerHTML = '';\n",
       "          dataTable['output_type'] = 'display_data';\n",
       "          await google.colab.output.renderOutput(dataTable, element);\n",
       "          const docLink = document.createElement('div');\n",
       "          docLink.innerHTML = docLinkHtml;\n",
       "          element.appendChild(docLink);\n",
       "        }\n",
       "      </script>\n",
       "    </div>\n",
       "  </div>\n"
      ],
      "text/plain": [
       "   PTO Power  Tire Sectional width (m)  Tire overall diameter (m)  \\\n",
       "0       31.3                     0.345                      1.310   \n",
       "1       22.2                     0.315                      1.260   \n",
       "2       34.0                     0.345                      1.310   \n",
       "3       34.1                     0.241                      1.050   \n",
       "4       12.9                     0.429                      1.435   \n",
       "\n",
       "   Drawbar height (m)  Wheel base (m)  Total mass (kN)  Velocity (km/h)  \\\n",
       "0                0.65            1.94           18.737             3.07   \n",
       "1                0.65            1.95           18.737             3.08   \n",
       "2                0.65            1.98           20.748             3.03   \n",
       "3                0.50            1.48           11.134             2.65   \n",
       "4                0.60            1.88           18.344             3.05   \n",
       "\n",
       "   Maximum drawbar pull at 15% wheel slip (kN)  \n",
       "0                                        15.37  \n",
       "1                                        14.46  \n",
       "2                                        18.01  \n",
       "3                                         8.37  \n",
       "4                                        13.63  "
      ]
     },
     "execution_count": 3,
     "metadata": {},
     "output_type": "execute_result"
    }
   ],
   "source": [
    "df.head()"
   ]
  },
  {
   "cell_type": "code",
   "execution_count": 4,
   "metadata": {
    "id": "N4YVYFEfKFOU"
   },
   "outputs": [],
   "source": [
    "X = df.drop(['Maximum drawbar pull at 15% wheel slip (kN)'], axis=1).values\n",
    "y = df['Maximum drawbar pull at 15% wheel slip (kN)'].values"
   ]
  },
  {
   "cell_type": "code",
   "execution_count": 6,
   "metadata": {
    "id": "Zcsb2sNPKHAg"
   },
   "outputs": [],
   "source": [
    "X_train, X_test, y_train, y_test = train_test_split(X, y, test_size=0.2, random_state=42)"
   ]
  },
  {
   "cell_type": "code",
   "execution_count": 7,
   "metadata": {
    "colab": {
     "base_uri": "https://localhost:8080/",
     "height": 118
    },
    "id": "eQONDTqKKNkv",
    "outputId": "54863667-663a-4e0c-d779-36f945a6adef"
   },
   "outputs": [
    {
     "data": {
      "text/html": [
       "<style>#sk-container-id-1 {color: black;background-color: white;}#sk-container-id-1 pre{padding: 0;}#sk-container-id-1 div.sk-toggleable {background-color: white;}#sk-container-id-1 label.sk-toggleable__label {cursor: pointer;display: block;width: 100%;margin-bottom: 0;padding: 0.3em;box-sizing: border-box;text-align: center;}#sk-container-id-1 label.sk-toggleable__label-arrow:before {content: \"▸\";float: left;margin-right: 0.25em;color: #696969;}#sk-container-id-1 label.sk-toggleable__label-arrow:hover:before {color: black;}#sk-container-id-1 div.sk-estimator:hover label.sk-toggleable__label-arrow:before {color: black;}#sk-container-id-1 div.sk-toggleable__content {max-height: 0;max-width: 0;overflow: hidden;text-align: left;background-color: #f0f8ff;}#sk-container-id-1 div.sk-toggleable__content pre {margin: 0.2em;color: black;border-radius: 0.25em;background-color: #f0f8ff;}#sk-container-id-1 input.sk-toggleable__control:checked~div.sk-toggleable__content {max-height: 200px;max-width: 100%;overflow: auto;}#sk-container-id-1 input.sk-toggleable__control:checked~label.sk-toggleable__label-arrow:before {content: \"▾\";}#sk-container-id-1 div.sk-estimator input.sk-toggleable__control:checked~label.sk-toggleable__label {background-color: #d4ebff;}#sk-container-id-1 div.sk-label input.sk-toggleable__control:checked~label.sk-toggleable__label {background-color: #d4ebff;}#sk-container-id-1 input.sk-hidden--visually {border: 0;clip: rect(1px 1px 1px 1px);clip: rect(1px, 1px, 1px, 1px);height: 1px;margin: -1px;overflow: hidden;padding: 0;position: absolute;width: 1px;}#sk-container-id-1 div.sk-estimator {font-family: monospace;background-color: #f0f8ff;border: 1px dotted black;border-radius: 0.25em;box-sizing: border-box;margin-bottom: 0.5em;}#sk-container-id-1 div.sk-estimator:hover {background-color: #d4ebff;}#sk-container-id-1 div.sk-parallel-item::after {content: \"\";width: 100%;border-bottom: 1px solid gray;flex-grow: 1;}#sk-container-id-1 div.sk-label:hover label.sk-toggleable__label {background-color: #d4ebff;}#sk-container-id-1 div.sk-serial::before {content: \"\";position: absolute;border-left: 1px solid gray;box-sizing: border-box;top: 0;bottom: 0;left: 50%;z-index: 0;}#sk-container-id-1 div.sk-serial {display: flex;flex-direction: column;align-items: center;background-color: white;padding-right: 0.2em;padding-left: 0.2em;position: relative;}#sk-container-id-1 div.sk-item {position: relative;z-index: 1;}#sk-container-id-1 div.sk-parallel {display: flex;align-items: stretch;justify-content: center;background-color: white;position: relative;}#sk-container-id-1 div.sk-item::before, #sk-container-id-1 div.sk-parallel-item::before {content: \"\";position: absolute;border-left: 1px solid gray;box-sizing: border-box;top: 0;bottom: 0;left: 50%;z-index: -1;}#sk-container-id-1 div.sk-parallel-item {display: flex;flex-direction: column;z-index: 1;position: relative;background-color: white;}#sk-container-id-1 div.sk-parallel-item:first-child::after {align-self: flex-end;width: 50%;}#sk-container-id-1 div.sk-parallel-item:last-child::after {align-self: flex-start;width: 50%;}#sk-container-id-1 div.sk-parallel-item:only-child::after {width: 0;}#sk-container-id-1 div.sk-dashed-wrapped {border: 1px dashed gray;margin: 0 0.4em 0.5em 0.4em;box-sizing: border-box;padding-bottom: 0.4em;background-color: white;}#sk-container-id-1 div.sk-label label {font-family: monospace;font-weight: bold;display: inline-block;line-height: 1.2em;}#sk-container-id-1 div.sk-label-container {text-align: center;}#sk-container-id-1 div.sk-container {/* jupyter's `normalize.less` sets `[hidden] { display: none; }` but bootstrap.min.css set `[hidden] { display: none !important; }` so we also need the `!important` here to be able to override the default hidden behavior on the sphinx rendered scikit-learn.org. See: https://github.com/scikit-learn/scikit-learn/issues/21755 */display: inline-block !important;position: relative;}#sk-container-id-1 div.sk-text-repr-fallback {display: none;}</style><div id=\"sk-container-id-1\" class=\"sk-top-container\"><div class=\"sk-text-repr-fallback\"><pre>RandomizedSearchCV(estimator=GradientBoostingRegressor(), n_iter=20, n_jobs=2,\n",
       "                   param_distributions={&#x27;learning_rate&#x27;: &lt;scipy.stats._distn_infrastructure.rv_continuous_frozen object at 0x7e58c0143130&gt;,\n",
       "                                        &#x27;max_leaf_nodes&#x27;: [2, 5, 10, 20, 50,\n",
       "                                                           100],\n",
       "                                        &#x27;n_estimators&#x27;: [1, 2, 5, 10, 20, 50,\n",
       "                                                         100, 200, 500]},\n",
       "                   random_state=0, scoring=&#x27;r2&#x27;)</pre><b>In a Jupyter environment, please rerun this cell to show the HTML representation or trust the notebook. <br />On GitHub, the HTML representation is unable to render, please try loading this page with nbviewer.org.</b></div><div class=\"sk-container\" hidden><div class=\"sk-item sk-dashed-wrapped\"><div class=\"sk-label-container\"><div class=\"sk-label sk-toggleable\"><input class=\"sk-toggleable__control sk-hidden--visually\" id=\"sk-estimator-id-1\" type=\"checkbox\" ><label for=\"sk-estimator-id-1\" class=\"sk-toggleable__label sk-toggleable__label-arrow\">RandomizedSearchCV</label><div class=\"sk-toggleable__content\"><pre>RandomizedSearchCV(estimator=GradientBoostingRegressor(), n_iter=20, n_jobs=2,\n",
       "                   param_distributions={&#x27;learning_rate&#x27;: &lt;scipy.stats._distn_infrastructure.rv_continuous_frozen object at 0x7e58c0143130&gt;,\n",
       "                                        &#x27;max_leaf_nodes&#x27;: [2, 5, 10, 20, 50,\n",
       "                                                           100],\n",
       "                                        &#x27;n_estimators&#x27;: [1, 2, 5, 10, 20, 50,\n",
       "                                                         100, 200, 500]},\n",
       "                   random_state=0, scoring=&#x27;r2&#x27;)</pre></div></div></div><div class=\"sk-parallel\"><div class=\"sk-parallel-item\"><div class=\"sk-item\"><div class=\"sk-label-container\"><div class=\"sk-label sk-toggleable\"><input class=\"sk-toggleable__control sk-hidden--visually\" id=\"sk-estimator-id-2\" type=\"checkbox\" ><label for=\"sk-estimator-id-2\" class=\"sk-toggleable__label sk-toggleable__label-arrow\">estimator: GradientBoostingRegressor</label><div class=\"sk-toggleable__content\"><pre>GradientBoostingRegressor()</pre></div></div></div><div class=\"sk-serial\"><div class=\"sk-item\"><div class=\"sk-estimator sk-toggleable\"><input class=\"sk-toggleable__control sk-hidden--visually\" id=\"sk-estimator-id-3\" type=\"checkbox\" ><label for=\"sk-estimator-id-3\" class=\"sk-toggleable__label sk-toggleable__label-arrow\">GradientBoostingRegressor</label><div class=\"sk-toggleable__content\"><pre>GradientBoostingRegressor()</pre></div></div></div></div></div></div></div></div></div></div>"
      ],
      "text/plain": [
       "RandomizedSearchCV(estimator=GradientBoostingRegressor(), n_iter=20, n_jobs=2,\n",
       "                   param_distributions={'learning_rate': <scipy.stats._distn_infrastructure.rv_continuous_frozen object at 0x7e58c0143130>,\n",
       "                                        'max_leaf_nodes': [2, 5, 10, 20, 50,\n",
       "                                                           100],\n",
       "                                        'n_estimators': [1, 2, 5, 10, 20, 50,\n",
       "                                                         100, 200, 500]},\n",
       "                   random_state=0, scoring='r2')"
      ]
     },
     "execution_count": 7,
     "metadata": {},
     "output_type": "execute_result"
    }
   ],
   "source": [
    "param_distributions = {\n",
    "    \"n_estimators\": [1, 2, 5, 10, 20, 50, 100, 200, 500],\n",
    "    \"max_leaf_nodes\": [2, 5, 10, 20, 50, 100],\n",
    "    \"learning_rate\": loguniform(0.01, 1),\n",
    "}\n",
    "gbr = RandomizedSearchCV(\n",
    "    GradientBoostingRegressor(),\n",
    "    param_distributions=param_distributions,\n",
    "    scoring=\"r2\",\n",
    "    n_iter=20,\n",
    "    random_state=0,\n",
    "    n_jobs=2,\n",
    ")\n",
    "gbr.fit(X_train, y_train)"
   ]
  },
  {
   "cell_type": "code",
   "execution_count": 8,
   "metadata": {
    "colab": {
     "base_uri": "https://localhost:8080/"
    },
    "id": "YRsdl70NKh0r",
    "outputId": "51678afe-a54a-4925-8a3e-670a7307e91e"
   },
   "outputs": [
    {
     "name": "stdout",
     "output_type": "stream",
     "text": [
      "MAE: 0.8858681541228034\n",
      "MAE: 0.061547464091881665\n",
      "MSE: 1.2549387372420606\n",
      "RMSE: 1.1202404818796992\n",
      "R2: 0.8984659600666285\n"
     ]
    }
   ],
   "source": [
    "gbr_pred = gbr.predict(X_test)\n",
    "print('MAE:', mean_absolute_error(y_test, gbr_pred))\n",
    "print('MAE:', mean_absolute_percentage_error(y_test, gbr_pred))\n",
    "print('MSE:', mean_squared_error(y_test, gbr_pred))\n",
    "print('RMSE:', np.sqrt(mean_squared_error(y_test, gbr_pred)))\n",
    "print('R2:', r2_score(y_test, gbr_pred))"
   ]
  },
  {
   "cell_type": "code",
   "execution_count": 9,
   "metadata": {
    "colab": {
     "base_uri": "https://localhost:8080/"
    },
    "id": "jKG-f2u1KwDY",
    "outputId": "03f06eb2-3b59-4a2e-90a2-4c01e020c6b8"
   },
   "outputs": [
    {
     "name": "stdout",
     "output_type": "stream",
     "text": [
      "MAE: 0.0442252552863788\n",
      "MAPE: 0.0030388855382107176\n",
      "MSE: 0.0036795387699792696\n",
      "RMSE: 0.06065920185742036\n",
      "R2: 0.9996827724658555\n"
     ]
    }
   ],
   "source": [
    "grid_gbr_pred =gbr.predict(X_train)\n",
    "print('MAE:', mean_absolute_error(y_train, grid_gbr_pred))\n",
    "print('MAPE:', mean_absolute_percentage_error(y_train, grid_gbr_pred))\n",
    "print('MSE:', mean_squared_error(y_train, grid_gbr_pred))\n",
    "print('RMSE:', np.sqrt(mean_squared_error(y_train, grid_gbr_pred)))\n",
    "print('R2:', r2_score(y_train, grid_gbr_pred))"
   ]
  },
  {
   "cell_type": "code",
   "execution_count": 10,
   "metadata": {
    "id": "hsaJk_ieK-Wb"
   },
   "outputs": [],
   "source": [
    "import pickle\n",
    "data = {\"model\": gbr}\n",
    "with open('Draft_gbr_saved_steps.pkl', 'wb') as file:\n",
    "    pickle.dump(data, file)"
   ]
  },
  {
   "cell_type": "code",
   "execution_count": null,
   "metadata": {
    "id": "LvIO8Bn9NIYp"
   },
   "outputs": [],
   "source": [
    "scaler = pickle.dump(sc, open('scaler.pkl', 'wb'))"
   ]
  },
  {
   "cell_type": "code",
   "execution_count": null,
   "metadata": {
    "id": "12P7qzMOLIwm"
   },
   "outputs": [],
   "source": [
    "with open('gbr_saved_steps.pkl', 'rb') as file:\n",
    "    data = pickle.load(file)\n",
    "gbr_loaded = data[\"model\"]"
   ]
  },
  {
   "cell_type": "code",
   "execution_count": null,
   "metadata": {
    "id": "G8Ii4bsNLQa_"
   },
   "outputs": [],
   "source": [
    "nh = pd.read_excel('New Holland input data.xlsx')\n",
    "nh_input=nh.drop(['Actual'], axis=1).values\n",
    "nh_scaler=sc.transform(nh_input)\n",
    "nh_actual=nh['Actual'].values"
   ]
  },
  {
   "cell_type": "code",
   "execution_count": null,
   "metadata": {
    "id": "-s4b4li9LX4V"
   },
   "outputs": [],
   "source": [
    "nh_gbr_pred = gbr.predict(nh_scaler)"
   ]
  },
  {
   "cell_type": "code",
   "execution_count": null,
   "metadata": {
    "colab": {
     "base_uri": "https://localhost:8080/"
    },
    "id": "lyQz84YTLcEX",
    "outputId": "11cb8fbf-982f-47a5-c0ed-357f680c9728"
   },
   "outputs": [
    {
     "data": {
      "text/plain": [
       "(array([10.14221542,  9.32061331,  7.92615741,  6.11374493,  4.87694034,\n",
       "         3.63949815,  9.97645166,  8.59282397,  7.56871548,  5.96327813,\n",
       "         4.96013739,  3.51124139,  9.26683548,  8.16750317,  6.90825378,\n",
       "         5.64888931,  4.50943294,  3.31771527,  9.16369077,  8.01861369,\n",
       "         6.70868457,  5.74076822,  4.17068452,  3.01867244,  8.8793055 ,\n",
       "         7.46074798,  6.2307104 ,  5.42910773,  3.94317021,  2.60798289,\n",
       "         8.29129359,  7.54950161,  5.76138327,  5.08453156,  3.73581767,\n",
       "         2.51445575]),\n",
       " array([10.18155   ,  9.47316523,  8.08564258,  6.3113567 ,  5.1126279 ,\n",
       "         3.8516388 , 10.01615436,  8.76771013,  7.74053108,  5.91606398,\n",
       "         5.01109371,  3.44530648,  9.78793153,  8.29815729,  7.04589656,\n",
       "         5.59187492,  4.52856548,  3.12465595,  9.28420029,  8.14887459,\n",
       "         6.62151732,  5.17766167,  4.01587904,  3.01218262,  8.95870589,\n",
       "         7.89719289,  6.14110306,  5.16535852,  3.84112457,  2.57339778,\n",
       "         8.01564852,  7.0929575 ,  5.3919735 ,  4.9143572 ,  3.6027274 ,\n",
       "         2.5267274 ]))"
      ]
     },
     "execution_count": 29,
     "metadata": {},
     "output_type": "execute_result"
    }
   ],
   "source": [
    "nh_gbr_pred, nh_actual"
   ]
  },
  {
   "cell_type": "code",
   "execution_count": null,
   "metadata": {
    "id": "oeoOU4s1LidI"
   },
   "outputs": [],
   "source": [
    "# print('MAE:', mean_absolute_error(nh_gbr_pred, nh_actual))\n",
    "# print('MAPE:', mean_absolute_percentage_error(nh_gbr_pred, nh_actual))\n",
    "# print('MSE:', mean_squared_error(nh_gbr_pred, nh_actual))\n",
    "# print('R2:', r2_score(nh_gbr_pred, nh_actual))"
   ]
  }
 ],
 "metadata": {
  "colab": {
   "provenance": []
  },
  "kernelspec": {
   "display_name": "Python 3 (ipykernel)",
   "language": "python",
   "name": "python3"
  },
  "language_info": {
   "codemirror_mode": {
    "name": "ipython",
    "version": 3
   },
   "file_extension": ".py",
   "mimetype": "text/x-python",
   "name": "python",
   "nbconvert_exporter": "python",
   "pygments_lexer": "ipython3",
   "version": "3.9.13"
  }
 },
 "nbformat": 4,
 "nbformat_minor": 1
}
